{
 "cells": [
  {
   "cell_type": "markdown",
   "metadata": {},
   "source": [
    "### Data Description"
   ]
  },
  {
   "cell_type": "markdown",
   "metadata": {},
   "source": [
    "Data was gathered from the city of Chicago's public dataset: [2001 to present - Dashboard](https://data.cityofchicago.org/Public-Safety/Crimes-2001-to-present-Dashboard/5cd6-ry5g). API documentation can be found at [Socrata](https://dev.socrata.com/foundry/data.cityofchicago.org/ijzp-q8t2). Data was then loaded into a local MySQL database for analytics purposes. "
   ]
  },
  {
   "cell_type": "markdown",
   "metadata": {},
   "source": [
    "The data used for this analysis was pulled on 2023-08-01, note that data retrieved is up to the most recent day minus 7 days. For this reason, we must exclude the most recent month, year or day which does not have complete data for that time period if we want accurate results."
   ]
  },
  {
   "cell_type": "markdown",
   "metadata": {},
   "source": [
    "### Columns Available\n",
    "* `id` = unique identified\n",
    "* `case_number` = Chicago Police Department RD Number\n",
    "* `date` = timestamp when incident occurred\n",
    "* `block` = The partially redacted address where the incident occurred, placing it on the same block as the actual address\n",
    "* `iucr` = The Illinois Uniform Crime Reporting code\n",
    "* `primary_type` = The primary description of the IUCR code\n",
    "* `description` = The secondary description of the IUCR code, a subcategory of the primary description\n",
    "* `location_description` = Description of the location where the incident occurred\n",
    "* `arrest` = Indicates whether an arrest was made\n",
    "* `domestic` = Indicates whether the incident was domestic-related as defined by the Illinois Domestic Violence Act\n",
    "* `beat` = Indicates the beat where the incident occurred\n",
    "* `district` = Indicates the police district where the incident occurred\n",
    "* `ward` = The ward (City Council district) where the incident occurred\n",
    "* `community_area` = Indicates the community area where the incident occurred\n",
    "* `fbi_code` = Indicates the crime classification as outlined in the FBI's National Incident-Based Reporting System (NIBRS)\n",
    "* `x_coordinate` = The x coordinate of the location where the incident occurred in State Plane Illinois East NAD 1983 projection\n",
    "* `y_coordinate` = The y coordinate of the location where the incident occurred in State Plane Illinois East NAD 1983 projection\n",
    "* `year` = Year the incident occurred\n",
    "* `updated_on` = Date and time the record was last updated\n",
    "* `latitude` = The latitude of the location where the incident occurred\n",
    "* `longitude` = The longitude of the location where the incident occurred\n",
    "* `location` (not retrieved) = The location where the incident occurred in a format that allows for creation of maps and other geographic operations on this data portal\n",
    "* `month` (custom) = The month when the incident occurred. Derived from `date`.\n",
    "* `ymd` (custom) = The year, month and day when the incident occurred. Derived from `date` "
   ]
  },
  {
   "cell_type": "markdown",
   "metadata": {},
   "source": [
    "### Data Aggregation"
   ]
  },
  {
   "cell_type": "markdown",
   "metadata": {},
   "source": [
    "Data was aggregated into a univariate datasets for the count of incidents by year, month and day. "
   ]
  },
  {
   "cell_type": "code",
   "execution_count": 1,
   "metadata": {},
   "outputs": [],
   "source": [
    "import pandas as pd"
   ]
  },
  {
   "cell_type": "code",
   "execution_count": 7,
   "metadata": {},
   "outputs": [
    {
     "data": {
      "text/html": [
       "<div>\n",
       "<style scoped>\n",
       "    .dataframe tbody tr th:only-of-type {\n",
       "        vertical-align: middle;\n",
       "    }\n",
       "\n",
       "    .dataframe tbody tr th {\n",
       "        vertical-align: top;\n",
       "    }\n",
       "\n",
       "    .dataframe thead th {\n",
       "        text-align: right;\n",
       "    }\n",
       "</style>\n",
       "<table border=\"1\" class=\"dataframe\">\n",
       "  <thead>\n",
       "    <tr style=\"text-align: right;\">\n",
       "      <th></th>\n",
       "      <th>year</th>\n",
       "      <th>yearly_crimes</th>\n",
       "    </tr>\n",
       "  </thead>\n",
       "  <tbody>\n",
       "    <tr>\n",
       "      <th>0</th>\n",
       "      <td>2001</td>\n",
       "      <td>485878</td>\n",
       "    </tr>\n",
       "    <tr>\n",
       "      <th>1</th>\n",
       "      <td>2002</td>\n",
       "      <td>486799</td>\n",
       "    </tr>\n",
       "    <tr>\n",
       "      <th>2</th>\n",
       "      <td>2003</td>\n",
       "      <td>475984</td>\n",
       "    </tr>\n",
       "    <tr>\n",
       "      <th>3</th>\n",
       "      <td>2004</td>\n",
       "      <td>469419</td>\n",
       "    </tr>\n",
       "    <tr>\n",
       "      <th>4</th>\n",
       "      <td>2005</td>\n",
       "      <td>453769</td>\n",
       "    </tr>\n",
       "  </tbody>\n",
       "</table>\n",
       "</div>"
      ],
      "text/plain": [
       "   year  yearly_crimes\n",
       "0  2001         485878\n",
       "1  2002         486799\n",
       "2  2003         475984\n",
       "3  2004         469419\n",
       "4  2005         453769"
      ]
     },
     "execution_count": 7,
     "metadata": {},
     "output_type": "execute_result"
    }
   ],
   "source": [
    "# crime counts by year\n",
    "cc_year = pd.read_csv('data/cc_yearly_20230801.csv')\n",
    "cc_year.head()"
   ]
  },
  {
   "cell_type": "code",
   "execution_count": 3,
   "metadata": {},
   "outputs": [
    {
     "data": {
      "text/html": [
       "<div>\n",
       "<style scoped>\n",
       "    .dataframe tbody tr th:only-of-type {\n",
       "        vertical-align: middle;\n",
       "    }\n",
       "\n",
       "    .dataframe tbody tr th {\n",
       "        vertical-align: top;\n",
       "    }\n",
       "\n",
       "    .dataframe thead th {\n",
       "        text-align: right;\n",
       "    }\n",
       "</style>\n",
       "<table border=\"1\" class=\"dataframe\">\n",
       "  <thead>\n",
       "    <tr style=\"text-align: right;\">\n",
       "      <th></th>\n",
       "      <th>year</th>\n",
       "      <th>month</th>\n",
       "      <th>monthly_crimes</th>\n",
       "    </tr>\n",
       "  </thead>\n",
       "  <tbody>\n",
       "    <tr>\n",
       "      <th>0</th>\n",
       "      <td>2001</td>\n",
       "      <td>1</td>\n",
       "      <td>38119</td>\n",
       "    </tr>\n",
       "    <tr>\n",
       "      <th>1</th>\n",
       "      <td>2001</td>\n",
       "      <td>2</td>\n",
       "      <td>33787</td>\n",
       "    </tr>\n",
       "    <tr>\n",
       "      <th>2</th>\n",
       "      <td>2001</td>\n",
       "      <td>3</td>\n",
       "      <td>40566</td>\n",
       "    </tr>\n",
       "    <tr>\n",
       "      <th>3</th>\n",
       "      <td>2001</td>\n",
       "      <td>4</td>\n",
       "      <td>40091</td>\n",
       "    </tr>\n",
       "    <tr>\n",
       "      <th>4</th>\n",
       "      <td>2001</td>\n",
       "      <td>5</td>\n",
       "      <td>41839</td>\n",
       "    </tr>\n",
       "  </tbody>\n",
       "</table>\n",
       "</div>"
      ],
      "text/plain": [
       "   year  month  monthly_crimes\n",
       "0  2001      1           38119\n",
       "1  2001      2           33787\n",
       "2  2001      3           40566\n",
       "3  2001      4           40091\n",
       "4  2001      5           41839"
      ]
     },
     "execution_count": 3,
     "metadata": {},
     "output_type": "execute_result"
    }
   ],
   "source": [
    "# crime counts by month\n",
    "cc_month = pd.read_csv('data/cc_monthly_20230801.csv')\n",
    "cc_month.head()"
   ]
  },
  {
   "cell_type": "code",
   "execution_count": 9,
   "metadata": {},
   "outputs": [
    {
     "data": {
      "text/html": [
       "<div>\n",
       "<style scoped>\n",
       "    .dataframe tbody tr th:only-of-type {\n",
       "        vertical-align: middle;\n",
       "    }\n",
       "\n",
       "    .dataframe tbody tr th {\n",
       "        vertical-align: top;\n",
       "    }\n",
       "\n",
       "    .dataframe thead th {\n",
       "        text-align: right;\n",
       "    }\n",
       "</style>\n",
       "<table border=\"1\" class=\"dataframe\">\n",
       "  <thead>\n",
       "    <tr style=\"text-align: right;\">\n",
       "      <th></th>\n",
       "      <th>ymd</th>\n",
       "      <th>daily_crimes</th>\n",
       "    </tr>\n",
       "  </thead>\n",
       "  <tbody>\n",
       "    <tr>\n",
       "      <th>0</th>\n",
       "      <td>2001-01-01</td>\n",
       "      <td>1825</td>\n",
       "    </tr>\n",
       "    <tr>\n",
       "      <th>1</th>\n",
       "      <td>2001-01-02</td>\n",
       "      <td>1143</td>\n",
       "    </tr>\n",
       "    <tr>\n",
       "      <th>2</th>\n",
       "      <td>2001-01-03</td>\n",
       "      <td>1151</td>\n",
       "    </tr>\n",
       "    <tr>\n",
       "      <th>3</th>\n",
       "      <td>2001-01-04</td>\n",
       "      <td>1166</td>\n",
       "    </tr>\n",
       "    <tr>\n",
       "      <th>4</th>\n",
       "      <td>2001-01-05</td>\n",
       "      <td>1267</td>\n",
       "    </tr>\n",
       "  </tbody>\n",
       "</table>\n",
       "</div>"
      ],
      "text/plain": [
       "          ymd  daily_crimes\n",
       "0  2001-01-01          1825\n",
       "1  2001-01-02          1143\n",
       "2  2001-01-03          1151\n",
       "3  2001-01-04          1166\n",
       "4  2001-01-05          1267"
      ]
     },
     "execution_count": 9,
     "metadata": {},
     "output_type": "execute_result"
    }
   ],
   "source": [
    "# crime counts by day\n",
    "cc_day = pd.read_csv('data/cc_daily_20230801.csv')\n",
    "cc_day.head()"
   ]
  },
  {
   "cell_type": "markdown",
   "metadata": {},
   "source": [
    "### Time Plots"
   ]
  },
  {
   "cell_type": "code",
   "execution_count": null,
   "metadata": {},
   "outputs": [],
   "source": []
  },
  {
   "cell_type": "markdown",
   "metadata": {},
   "source": [
    "### Exporting \"Cleaned Data\""
   ]
  },
  {
   "cell_type": "markdown",
   "metadata": {},
   "source": [
    "As described previously, the data retrieved is up to the most recent day minus 7 days. For this reason, we must exclude the most recent day since it does not have complete data for that time period if we want accurate results."
   ]
  },
  {
   "cell_type": "code",
   "execution_count": 10,
   "metadata": {},
   "outputs": [],
   "source": [
    "def exclude_last_row_and_export(dataframe, output_file_path):\n",
    "    # Use .iloc to slice the DataFrame and exclude the last row\n",
    "    dataframe_excluded_last_row = dataframe.iloc[:-1]\n",
    "    \n",
    "    # Export the modified DataFrame to a CSV file\n",
    "    dataframe_excluded_last_row.to_csv(output_file_path, index=False)"
   ]
  },
  {
   "cell_type": "code",
   "execution_count": 11,
   "metadata": {},
   "outputs": [],
   "source": [
    "exclude_last_row_and_export(cc_day, 'data/cc_day_final.csv')"
   ]
  }
 ],
 "metadata": {
  "kernelspec": {
   "display_name": "chi-crime",
   "language": "python",
   "name": "python3"
  },
  "language_info": {
   "codemirror_mode": {
    "name": "ipython",
    "version": 3
   },
   "file_extension": ".py",
   "mimetype": "text/x-python",
   "name": "python",
   "nbconvert_exporter": "python",
   "pygments_lexer": "ipython3",
   "version": "3.11.4"
  },
  "orig_nbformat": 4
 },
 "nbformat": 4,
 "nbformat_minor": 2
}
